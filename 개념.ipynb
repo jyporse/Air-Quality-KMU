{
  "nbformat": 4,
  "nbformat_minor": 0,
  "metadata": {
    "colab": {
      "name": "개념.ipynb",
      "private_outputs": true,
      "provenance": [],
      "authorship_tag": "ABX9TyNg9VivKxrSqf7qsETwet29",
      "include_colab_link": true
    },
    "kernelspec": {
      "name": "python3",
      "display_name": "Python 3"
    },
    "language_info": {
      "name": "python"
    },
    "accelerator": "GPU"
  },
  "cells": [
    {
      "cell_type": "markdown",
      "metadata": {
        "id": "view-in-github",
        "colab_type": "text"
      },
      "source": [
        "<a href=\"https://colab.research.google.com/github/jyporse/Air-Quality-KMU/blob/main/%EA%B0%9C%EB%85%90.ipynb\" target=\"_parent\"><img src=\"https://colab.research.google.com/assets/colab-badge.svg\" alt=\"Open In Colab\"/></a>"
      ]
    },
    {
      "cell_type": "markdown",
      "metadata": {
        "id": "uCeXBpyLGUoC"
      },
      "source": [
        "## 개념\n",
        "## 머신러닝의 분류\n",
        "머신러닝은 지도학습과 비지도학습, 강화학습으로 나뉜다. \n",
        "- 지도학습 : 명확한 결정값이 주어진 데이터를 학습하는 것\n",
        "##### 지도학습 : 분류 / 회귀 /시각 /음성 감지 / 인지 \n",
        "- 비지도 학습 : 결정값이 주어지지 않는 데이터를 학습\n",
        "##### 비지도 학습 : 군집화(클러스터링) / 차원 축소\n",
        "\n",
        "##머신러닝 기반의 예측 분석\n",
        "- 머신러닝은 데이터를 관통하는 패턴을 학습하고 , 이에 기반한 예측을 수행하면서 데이터 분석 영역에 새로운 혁신을 가져왔다.\n",
        "- 많은 데이터 분석가와 데이터 과학자가 머신러닝 알고리즘 기반의 새로운 예측 모델을 이용해 더욱 정확한 예측 및 의사 결정을 도출하고 있다.\n",
        "\n",
        "##머신러닝 알고리즘 유형\n",
        "- 기호주의 : 결정 트리 등\n",
        "- 연결주의 : 신경망/딥러닝\n",
        "- 유전 알고리즘\n",
        "- 베이지안 통계 (베이지안 : 기존의 가지고 있는 믿음들을 데이터가 들어올때마다 새롭게 갱신)\n",
        "- 유추주의 : KNN, 서포트 벡터 머신  * 마스터 알고리즘\n",
        "\n",
        "##머신러닝의 단점\n",
        "- 데이터에 너무 의존적이다.(다양한 데이터가 좋다)\n",
        "- 학습데이터의 최적의 결과를 도출하기 위한 과적합 되기 쉽다.(모의고사만 잘 보려는 경향)\n",
        "- 데이터만 넣으면 자동으로 최적화된 결과를 도출할 것이라는 것은 환상이다.\n",
        "즉 끊임없이 모델을 개선하기 위한 노력이 필요함\n",
        "\n",
        "##파이썬 머신러닝의 특징\n",
        "### R 과 Python의 비교\n",
        "R : 통계 전용 프로그램 언어\n",
        "#####Python : 직관적인 문법과 객체지향과 다양한 라이브러리 \n",
        "- 통계 관련 종사자라면 R  개발자라면 Python\n",
        "* 가장 인기있는 언어를 선택하는게 좋다.\n",
        "\n",
        "##Python 의 주요 패키지\n",
        "* 머신러닝 패키지 : scikit-learn\n",
        "- 배열 / 선형대수 /통계 패키지 : Numpy / SciPy\n",
        "- 데이터 핸들링 : pandas\n",
        "- 시각화 : matplotlib / Seaborn\n",
        "- 대화형 Python toll : Jupyter / Colaboratory\n",
        "\n",
        "\n"
      ]
    },
    {
      "cell_type": "markdown",
      "metadata": {
        "id": "t_OJscHwGZAd"
      },
      "source": [
        ""
      ]
    }
  ]
}